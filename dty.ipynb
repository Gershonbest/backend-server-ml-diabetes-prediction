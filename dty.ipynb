{
 "cells": [
  {
   "cell_type": "code",
   "execution_count": 3,
   "metadata": {},
   "outputs": [],
   "source": [
    "import pandas as pd\n",
    "import random"
   ]
  },
  {
   "cell_type": "code",
   "execution_count": 6,
   "metadata": {},
   "outputs": [
    {
     "name": "stdout",
     "output_type": "stream",
     "text": [
      "(89, 9)\n",
      "            Food Item   Food category  Calories(kcal)  Carbohydrates (g)  \\\n",
      "5          Brown Rice           Grain             215               45.0   \n",
      "8        Sweet Potato  Root Vegetable             112               26.0   \n",
      "12  Whole Wheat Bread           Grain              69               12.0   \n",
      "15             Carrot       Vegetable              41               10.0   \n",
      "34            Sorghum           Grain             195               43.0   \n",
      "\n",
      "    Proteins (g)  Fats (g)  Fiber (g)  Glycemic Index         Serving Size  \n",
      "5            5.0       1.5        3.5            68.0  1 cup cooked (195g)  \n",
      "8            2.0       0.0        3.9            61.0      1 medium (130g)  \n",
      "12           3.0       1.0        1.9            71.0        1 slice (28g)  \n",
      "15           1.0       0.2        2.9            71.0       1 medium (61g)  \n",
      "34           6.0       1.5        6.7            70.0         1 cup (192g)  \n",
      "     Food Item Food category  Calories(kcal)  Carbohydrates (g)  Proteins (g)  \\\n",
      "0        Apple         Fruit              95               25.0           1.0   \n",
      "1       Pecans          Nuts             196                4.0           3.0   \n",
      "2  Berries MIx         Fruit              70               17.0           2.0   \n",
      "3      Spinach     Vegetable               7                1.0           1.0   \n",
      "4       Salmon          Fish             206                0.0          22.0   \n",
      "\n",
      "   Fats (g)  Fiber (g)  Glycemic Index     Serving Size  \n",
      "0       0.3        4.0            39.0  1 medium (182g)  \n",
      "1      20.0        2.7            10.0       1 oz (28g)  \n",
      "2       0.5        6.0            25.0     1 cup (145g)  \n",
      "3       0.0        1.0            15.0      1 cup (30g)  \n",
      "4      13.0        0.0             0.0       3 oz (85g)  \n"
     ]
    }
   ],
   "source": [
    "# Load the diet data\n",
    "diet = pd.read_csv(\"diet.csv\")\n",
    "# Create a new dataframe for pre-diabetic diets\n",
    "pre_diabetic_diets = diet[diet['Glycemic Index'] <= 55]\n",
    "print(pre_diabetic_diets.shape)\n",
    "\n",
    "# Create a new dataframe for diabetic diets\n",
    "diabetic_diets = diet[diet['Glycemic Index'] > 55]\n",
    "print(diabetic_diets.head())\n",
    "print(diet.head())"
   ]
  },
  {
   "cell_type": "code",
   "execution_count": 4,
   "metadata": {},
   "outputs": [],
   "source": [
    "diet_data = pre_diabetic_diets"
   ]
  },
  {
   "cell_type": "code",
   "execution_count": 12,
   "metadata": {},
   "outputs": [
    {
     "name": "stdout",
     "output_type": "stream",
     "text": [
      "Breakfast:\n",
      "- Xylitol\n",
      "- Swiss chard\n",
      "\n",
      "Lunch:\n",
      "- Grilled Chicken Breast\n",
      "- Snow peas\n",
      "\n",
      "Dinner:\n",
      "- Grapefruits \n",
      "- Millet\n"
     ]
    }
   ],
   "source": [
    "# Get the list of food items\n",
    "food_items = list(diet_data['Food Item'])\n",
    "\n",
    "# Generate two random breakfast items\n",
    "breakfast1_index = random.randint(0, len(food_items))\n",
    "breakfast1 = food_items[breakfast1_index]\n",
    "\n",
    "breakfast2_index = random.randint(0, len(food_items))\n",
    "while breakfast2_index == breakfast1_index:\n",
    "    breakfast2_index = random.randint(0, len(food_items))\n",
    "breakfast2 = food_items[breakfast2_index]\n",
    "\n",
    "# Generate two random lunch items\n",
    "lunch1_index = random.randint(0, len(food_items))\n",
    "while lunch1_index == breakfast1_index or lunch1_index == breakfast2_index:\n",
    "    lunch1_index = random.randint(0, len(food_items))\n",
    "lunch1 = food_items[lunch1_index]\n",
    "\n",
    "lunch2_index = random.randint(0, len(food_items))\n",
    "while lunch2_index == breakfast1_index or lunch2_index == breakfast2_index or lunch2_index == lunch1_index:\n",
    "    lunch2_index = random.randint(0, len(food_items))\n",
    "lunch2 = food_items[lunch2_index]\n",
    "\n",
    "# Generate two random dinner items\n",
    "dinner1_index = random.randint(0, len(food_items))\n",
    "while dinner1_index == breakfast1_index or dinner1_index == breakfast2_index or dinner1_index == lunch1_index or dinner1_index == lunch2_index:\n",
    "    dinner1_index = random.randint(0, len(food_items))\n",
    "dinner1 = food_items[dinner1_index]\n",
    "\n",
    "dinner2_index = random.randint(0, len(food_items))\n",
    "while dinner2_index == breakfast1_index or dinner2_index == breakfast2_index or dinner2_index == lunch1_index or dinner2_index == lunch2_index or dinner2_index == dinner1_index:\n",
    "    dinner2_index = random.randint(0, len(food_items))\n",
    "dinner2 = food_items[dinner2_index]\n",
    "\n",
    "# Print the meal plan\n",
    "print(\"Breakfast:\")\n",
    "print(f\"- {breakfast1}\")\n",
    "print(f\"- {breakfast2}\")\n",
    "\n",
    "print(\"\\nLunch:\")\n",
    "print(f\"- {lunch1}\")\n",
    "print(f\"- {lunch2}\")\n",
    "\n",
    "print(\"\\nDinner:\")\n",
    "print(f\"- {dinner1}\")\n",
    "print(f\"- {dinner2}\")"
   ]
  },
  {
   "cell_type": "code",
   "execution_count": null,
   "metadata": {},
   "outputs": [],
   "source": []
  },
  {
   "cell_type": "code",
   "execution_count": null,
   "metadata": {},
   "outputs": [],
   "source": []
  }
 ],
 "metadata": {
  "kernelspec": {
   "display_name": "diabetes_app",
   "language": "python",
   "name": "python3"
  },
  "language_info": {
   "codemirror_mode": {
    "name": "ipython",
    "version": 3
   },
   "file_extension": ".py",
   "mimetype": "text/x-python",
   "name": "python",
   "nbconvert_exporter": "python",
   "pygments_lexer": "ipython3",
   "version": "3.11.5"
  }
 },
 "nbformat": 4,
 "nbformat_minor": 2
}
